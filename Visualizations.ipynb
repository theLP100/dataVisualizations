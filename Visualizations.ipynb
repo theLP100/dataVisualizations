{
 "cells": [
  {
   "cell_type": "code",
   "execution_count": 3,
   "metadata": {},
   "outputs": [],
   "source": [
    "#pip install matplotlib\n",
    "#pip3 install seaborn"
   ]
  },
  {
   "cell_type": "code",
   "execution_count": 13,
   "metadata": {},
   "outputs": [],
   "source": [
    "import pandas as pd\n",
    "import numpy as np\n",
    "import matplotlib.pyplot as plt\n",
    "import seaborn as sns\n"
   ]
  },
  {
   "cell_type": "code",
   "execution_count": 14,
   "metadata": {},
   "outputs": [],
   "source": [
    "root_path = '/Users/lpwilson/Ada/Developer/projects/Capstone/EEO1s/'\n",
    "#read in the long format csv\n",
    "EEO1_data = pd.read_csv(root_path + 'long_csv.csv')"
   ]
  },
  {
   "cell_type": "code",
   "execution_count": 15,
   "metadata": {},
   "outputs": [],
   "source": [
    "EEO1_data = pd.DataFrame(EEO1_data)\n",
    "EEO1_data = EEO1_data.drop(columns = ['Unnamed: 0'])\n",
    "#EEO1_data.info()\n",
    "#EEO1_data"
   ]
  },
  {
   "attachments": {},
   "cell_type": "markdown",
   "metadata": {},
   "source": [
    "# goal: \n",
    "make a line plot filtered by company and job category that tracks gender (or race) \n",
    "as a percentage of total employees in that category over years. \n",
    "\n",
    "so, the x-axis points will be the year values\n",
    "and the y-axis points will be the percentage of employees of each gender.\n",
    "\n",
    "let's try to get the x- and y- values that we need. "
   ]
  },
  {
   "cell_type": "code",
   "execution_count": 24,
   "metadata": {},
   "outputs": [
    {
     "data": {
      "text/html": [
       "<div>\n",
       "<style scoped>\n",
       "    .dataframe tbody tr th:only-of-type {\n",
       "        vertical-align: middle;\n",
       "    }\n",
       "\n",
       "    .dataframe tbody tr th {\n",
       "        vertical-align: top;\n",
       "    }\n",
       "\n",
       "    .dataframe thead th {\n",
       "        text-align: right;\n",
       "    }\n",
       "</style>\n",
       "<table border=\"1\" class=\"dataframe\">\n",
       "  <thead>\n",
       "    <tr style=\"text-align: right;\">\n",
       "      <th></th>\n",
       "      <th>count_employees</th>\n",
       "      <th>job_category</th>\n",
       "      <th>gender</th>\n",
       "      <th>race</th>\n",
       "      <th>year</th>\n",
       "      <th>company</th>\n",
       "    </tr>\n",
       "  </thead>\n",
       "  <tbody>\n",
       "    <tr>\n",
       "      <th>560</th>\n",
       "      <td>106</td>\n",
       "      <td>Exec/Sr. Officials &amp; Mgrs</td>\n",
       "      <td>Male</td>\n",
       "      <td>Hispanic or Latino</td>\n",
       "      <td>2021</td>\n",
       "      <td>Amazon</td>\n",
       "    </tr>\n",
       "    <tr>\n",
       "      <th>561</th>\n",
       "      <td>5192</td>\n",
       "      <td>First/Mid Officials &amp; Mgrs</td>\n",
       "      <td>Male</td>\n",
       "      <td>Hispanic or Latino</td>\n",
       "      <td>2021</td>\n",
       "      <td>Amazon</td>\n",
       "    </tr>\n",
       "    <tr>\n",
       "      <th>562</th>\n",
       "      <td>4785</td>\n",
       "      <td>Professionals</td>\n",
       "      <td>Male</td>\n",
       "      <td>Hispanic or Latino</td>\n",
       "      <td>2021</td>\n",
       "      <td>Amazon</td>\n",
       "    </tr>\n",
       "    <tr>\n",
       "      <th>563</th>\n",
       "      <td>1240</td>\n",
       "      <td>Technicians</td>\n",
       "      <td>Male</td>\n",
       "      <td>Hispanic or Latino</td>\n",
       "      <td>2021</td>\n",
       "      <td>Amazon</td>\n",
       "    </tr>\n",
       "    <tr>\n",
       "      <th>564</th>\n",
       "      <td>9819</td>\n",
       "      <td>Sales Workers</td>\n",
       "      <td>Male</td>\n",
       "      <td>Hispanic or Latino</td>\n",
       "      <td>2021</td>\n",
       "      <td>Amazon</td>\n",
       "    </tr>\n",
       "    <tr>\n",
       "      <th>...</th>\n",
       "      <td>...</td>\n",
       "      <td>...</td>\n",
       "      <td>...</td>\n",
       "      <td>...</td>\n",
       "      <td>...</td>\n",
       "      <td>...</td>\n",
       "    </tr>\n",
       "    <tr>\n",
       "      <th>975</th>\n",
       "      <td>612</td>\n",
       "      <td>Administrative Support</td>\n",
       "      <td>Female</td>\n",
       "      <td>Two or More Races</td>\n",
       "      <td>2019</td>\n",
       "      <td>Amazon</td>\n",
       "    </tr>\n",
       "    <tr>\n",
       "      <th>976</th>\n",
       "      <td>3</td>\n",
       "      <td>Craft Workers</td>\n",
       "      <td>Female</td>\n",
       "      <td>Two or More Races</td>\n",
       "      <td>2019</td>\n",
       "      <td>Amazon</td>\n",
       "    </tr>\n",
       "    <tr>\n",
       "      <th>977</th>\n",
       "      <td>453</td>\n",
       "      <td>Operatives</td>\n",
       "      <td>Female</td>\n",
       "      <td>Two or More Races</td>\n",
       "      <td>2019</td>\n",
       "      <td>Amazon</td>\n",
       "    </tr>\n",
       "    <tr>\n",
       "      <th>978</th>\n",
       "      <td>6107</td>\n",
       "      <td>Laborers &amp; Helpers</td>\n",
       "      <td>Female</td>\n",
       "      <td>Two or More Races</td>\n",
       "      <td>2019</td>\n",
       "      <td>Amazon</td>\n",
       "    </tr>\n",
       "    <tr>\n",
       "      <th>979</th>\n",
       "      <td>55</td>\n",
       "      <td>Service Workers</td>\n",
       "      <td>Female</td>\n",
       "      <td>Two or More Races</td>\n",
       "      <td>2019</td>\n",
       "      <td>Amazon</td>\n",
       "    </tr>\n",
       "  </tbody>\n",
       "</table>\n",
       "<p>420 rows × 6 columns</p>\n",
       "</div>"
      ],
      "text/plain": [
       "     count_employees                job_category  gender                race  \\\n",
       "560              106   Exec/Sr. Officials & Mgrs    Male  Hispanic or Latino   \n",
       "561             5192  First/Mid Officials & Mgrs    Male  Hispanic or Latino   \n",
       "562             4785               Professionals    Male  Hispanic or Latino   \n",
       "563             1240                 Technicians    Male  Hispanic or Latino   \n",
       "564             9819               Sales Workers    Male  Hispanic or Latino   \n",
       "..               ...                         ...     ...                 ...   \n",
       "975              612      Administrative Support  Female   Two or More Races   \n",
       "976                3               Craft Workers  Female   Two or More Races   \n",
       "977              453                  Operatives  Female   Two or More Races   \n",
       "978             6107          Laborers & Helpers  Female   Two or More Races   \n",
       "979               55             Service Workers  Female   Two or More Races   \n",
       "\n",
       "     year company  \n",
       "560  2021  Amazon  \n",
       "561  2021  Amazon  \n",
       "562  2021  Amazon  \n",
       "563  2021  Amazon  \n",
       "564  2021  Amazon  \n",
       "..    ...     ...  \n",
       "975  2019  Amazon  \n",
       "976  2019  Amazon  \n",
       "977  2019  Amazon  \n",
       "978  2019  Amazon  \n",
       "979  2019  Amazon  \n",
       "\n",
       "[420 rows x 6 columns]"
      ]
     },
     "execution_count": 24,
     "metadata": {},
     "output_type": "execute_result"
    }
   ],
   "source": [
    "#set up the filters\n",
    "company = \"Amazon\"\n",
    "#I want to only look at some job categories for now, for readability.\n",
    "job_cats = ['Exec/Sr. Officials & Mgrs']\n",
    "##job_categories = ['Exec/Sr. Officials & Mgrs','First/Mid Officials & Mgrs','Professionals','Technicians','Sales Workers','Administrative Support','Craft Workers','Operatives','Laborers & Helpers','Service Workers']\n",
    "\n",
    "#choosing these names to match our queries.\n",
    "sortBy1 = 'job_category'\n",
    "sortBy2 = 'gender'\n",
    "\n",
    "amz_data = EEO1_data.query(f\"company == '{company}'\")\n",
    "# years = sorted(amz_data['year'].unique())\n",
    "# years\n",
    "amz_data"
   ]
  },
  {
   "attachments": {},
   "cell_type": "markdown",
   "metadata": {},
   "source": [
    "Now let's try to get the y-values for one of the job categories.\n",
    "we want the sum of count_employees for a given job category and gender.\n",
    "\n",
    "Let's also filter (query) by the job cats we want."
   ]
  },
  {
   "cell_type": "code",
   "execution_count": 25,
   "metadata": {},
   "outputs": [
    {
     "data": {
      "text/html": [
       "<div>\n",
       "<style scoped>\n",
       "    .dataframe tbody tr th:only-of-type {\n",
       "        vertical-align: middle;\n",
       "    }\n",
       "\n",
       "    .dataframe tbody tr th {\n",
       "        vertical-align: top;\n",
       "    }\n",
       "\n",
       "    .dataframe thead th {\n",
       "        text-align: right;\n",
       "    }\n",
       "</style>\n",
       "<table border=\"1\" class=\"dataframe\">\n",
       "  <thead>\n",
       "    <tr style=\"text-align: right;\">\n",
       "      <th></th>\n",
       "      <th></th>\n",
       "      <th></th>\n",
       "      <th>count_employees</th>\n",
       "    </tr>\n",
       "    <tr>\n",
       "      <th>year</th>\n",
       "      <th>job_category</th>\n",
       "      <th>gender</th>\n",
       "      <th></th>\n",
       "    </tr>\n",
       "  </thead>\n",
       "  <tbody>\n",
       "    <tr>\n",
       "      <th rowspan=\"2\" valign=\"top\">2019</th>\n",
       "      <th rowspan=\"2\" valign=\"top\">Exec/Sr. Officials &amp; Mgrs</th>\n",
       "      <th>Female</th>\n",
       "      <td>475</td>\n",
       "    </tr>\n",
       "    <tr>\n",
       "      <th>Male</th>\n",
       "      <td>1638</td>\n",
       "    </tr>\n",
       "    <tr>\n",
       "      <th rowspan=\"2\" valign=\"top\">2020</th>\n",
       "      <th rowspan=\"2\" valign=\"top\">Exec/Sr. Officials &amp; Mgrs</th>\n",
       "      <th>Female</th>\n",
       "      <td>629</td>\n",
       "    </tr>\n",
       "    <tr>\n",
       "      <th>Male</th>\n",
       "      <td>1981</td>\n",
       "    </tr>\n",
       "    <tr>\n",
       "      <th rowspan=\"2\" valign=\"top\">2021</th>\n",
       "      <th rowspan=\"2\" valign=\"top\">Exec/Sr. Officials &amp; Mgrs</th>\n",
       "      <th>Female</th>\n",
       "      <td>792</td>\n",
       "    </tr>\n",
       "    <tr>\n",
       "      <th>Male</th>\n",
       "      <td>2283</td>\n",
       "    </tr>\n",
       "  </tbody>\n",
       "</table>\n",
       "</div>"
      ],
      "text/plain": [
       "                                       count_employees\n",
       "year job_category              gender                 \n",
       "2019 Exec/Sr. Officials & Mgrs Female              475\n",
       "                               Male               1638\n",
       "2020 Exec/Sr. Officials & Mgrs Female              629\n",
       "                               Male               1981\n",
       "2021 Exec/Sr. Officials & Mgrs Female              792\n",
       "                               Male               2283"
      ]
     },
     "execution_count": 25,
     "metadata": {},
     "output_type": "execute_result"
    }
   ],
   "source": [
    "\n",
    "dbl_qry_amz = amz_data.query('job_category.isin(@job_cats)').groupby([\"year\", sortBy1, sortBy2])['count_employees'].sum()\n",
    "dbl_qry_amz = pd.DataFrame(dbl_qry_amz)\n",
    "dbl_qry_amz\n"
   ]
  },
  {
   "cell_type": "code",
   "execution_count": 31,
   "metadata": {},
   "outputs": [
    {
     "data": {
      "text/plain": [
       "[[<matplotlib.axis.XTick at 0x113f2f160>,\n",
       "  <matplotlib.axis.XTick at 0x113f70e20>,\n",
       "  <matplotlib.axis.XTick at 0x113f2d270>]]"
      ]
     },
     "execution_count": 31,
     "metadata": {},
     "output_type": "execute_result"
    },
    {
     "data": {
      "image/png": "[encoded data removed]",
      "text/plain": [
       "<Figure size 640x480 with 1 Axes>"
      ]
     },
     "metadata": {},
     "output_type": "display_data"
    }
   ],
   "source": [
    "plot1 = sns.lineplot(data = dbl_qry_amz, x='year', y='count_employees', hue = 'gender', palette=\"husl\")\n",
    "plt.ylim(0)\n",
    "plot1.set(xticks=[2019, 2020, 2021])"
   ]
  },
  {
   "cell_type": "code",
   "execution_count": 10,
   "metadata": {},
   "outputs": [],
   "source": [
    "# fig, ax = plt.subplots()\n",
    "# ax.plot(dbl_qry_amz)"
   ]
  },
  {
   "cell_type": "code",
   "execution_count": null,
   "metadata": {},
   "outputs": [],
   "source": []
  }
 ],
 "metadata": {
  "kernelspec": {
   "display_name": "Python 3",
   "language": "python",
   "name": "python3"
  },
  "language_info": {
   "codemirror_mode": {
    "name": "ipython",
    "version": 3
   },
   "file_extension": ".py",
   "mimetype": "text/x-python",
   "name": "python",
   "nbconvert_exporter": "python",
   "pygments_lexer": "ipython3",
   "version": "3.10.8"
  },
  "orig_nbformat": 4,
  "vscode": {
   "interpreter": {
    "hash": "aee8b7b246df8f9039afb4144a1f6fd8d2ca17a180786b69acc140d282b71a49"
   }
  }
 },
 "nbformat": 4,
 "nbformat_minor": 2
}
